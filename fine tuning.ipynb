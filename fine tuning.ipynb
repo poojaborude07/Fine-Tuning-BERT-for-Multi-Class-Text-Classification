{
  "cells": [
    {
      "cell_type": "markdown",
      "metadata": {
        "id": "mC6k6nrF-1lT"
      },
      "source": [
        "# \ud83e\udde0 Project: BERT Text Classification on AG News Dataset\n",
        "\n",
        "This project uses a pre-trained BERT model to classify news articles from the AG News dataset into one of four categories: World, Sports, Business, and Sci/Tech. We\u2019ll load the dataset, tokenize text using BERT tokenizer, fine-tune a BERT model, evaluate its accuracy, and test it on sample inputs.\n"
      ]
    },
    {
      "cell_type": "markdown",
      "metadata": {
        "id": "YwPIYDvZBMcQ"
      },
      "source": [
        "# Step 1: Install Required Libraries\n",
        "\n",
        "We install the Hugging Face 'transformers' and 'datasets' libraries, which allow us to use pretrained BERT models and access standard NLP datasets.\n"
      ]
    },
    {
      "cell_type": "code",
      "execution_count": 1,
      "metadata": {
        "executionInfo": {
          "elapsed": 10669,
          "status": "ok",
          "timestamp": 1753538236085,
          "user": {
            "displayName": "POOJA BORUDE",
            "userId": "03202445932700127897"
          },
          "user_tz": -330
        },
        "id": "rY7fMiIoBRs5"
      },
      "outputs": [],
      "source": [
        "!pip install transformers datasets -q\n"
      ]
    },
    {
      "cell_type": "markdown",
      "metadata": {
        "id": "AGkSrO8yBeYg"
      },
      "source": [
        "# Step 2: Import Required Modules\n",
        "\n",
        "We'll import necessary components including PyTorch, Hugging Face's BERT models, tokenizer, Trainer API, and accuracy metrics.\n"
      ]
    },
    {
      "cell_type": "code",
      "execution_count": 4,
      "metadata": {
        "executionInfo": {
          "elapsed": 47,
          "status": "ok",
          "timestamp": 1753538888392,
          "user": {
            "displayName": "POOJA BORUDE",
            "userId": "03202445932700127897"
          },
          "user_tz": -330
        },
        "id": "C8slz1KZD89v"
      },
      "outputs": [],
      "source": [
        "import torch\n",
        "from datasets import load_dataset\n",
        "from transformers import (\n",
        "    BertTokenizerFast, BertForSequenceClassification, Trainer, TrainingArguments,\n",
        "    DataCollatorWithPadding, pipeline\n",
        ")\n",
        "from sklearn.metrics import accuracy_score\n",
        "import pandas as pd\n",
        "import warnings\n"
      ]
    },
    {
      "cell_type": "markdown",
      "metadata": {
        "id": "PkexlqtaBtTZ"
      },
      "source": [
        "# Step 3: Load AG News Dataset\n",
        "\n",
        "We'll load the AG News dataset, a benchmark dataset for text classification tasks, containing news articles labeled into 4 classes.\n"
      ]
    },
    {
      "cell_type": "code",
      "execution_count": 5,
      "metadata": {
        "colab": {
          "base_uri": "https://localhost:8080/",
          "height": 206
        },
        "executionInfo": {
          "elapsed": 6890,
          "status": "ok",
          "timestamp": 1753538927683,
          "user": {
            "displayName": "POOJA BORUDE",
            "userId": "03202445932700127897"
          },
          "user_tz": -330
        },
        "id": "ZU1KsVzTECTK",
        "outputId": "621c8a83-aa84-45e6-bf29-da72cfebcd53"
      },
      "outputs": [
        {
          "data": {
            "application/vnd.google.colaboratory.intrinsic+json": {
              "summary": "{\n  \"name\": \"dataset[\\\"train\\\"]\",\n  \"rows\": 5,\n  \"fields\": [\n    {\n      \"column\": \"text\",\n      \"properties\": {\n        \"dtype\": \"string\",\n        \"num_unique_values\": 5,\n        \"samples\": [\n          \"Carlyle Looks Toward Commercial Aerospace (Reuters) Reuters - Private investment firm Carlyle Group,\\\\which has a reputation for making well-timed and occasionally\\\\controversial plays in the defense industry, has quietly placed\\\\its bets on another part of the market.\",\n          \"Oil prices soar to all-time record, posing new menace to US economy (AFP) AFP - Tearaway world oil prices, toppling records and straining wallets, present a new economic menace barely three months before the US presidential elections.\",\n          \"Oil and Economy Cloud Stocks' Outlook (Reuters) Reuters - Soaring crude prices plus worries\\\\about the economy and the outlook for earnings are expected to\\\\hang over the stock market next week during the depth of the\\\\summer doldrums.\"\n        ],\n        \"semantic_type\": \"\",\n        \"description\": \"\"\n      }\n    },\n    {\n      \"column\": \"label\",\n      \"properties\": {\n        \"dtype\": \"number\",\n        \"std\": 0,\n        \"min\": 2,\n        \"max\": 2,\n        \"num_unique_values\": 1,\n        \"samples\": [\n          2\n        ],\n        \"semantic_type\": \"\",\n        \"description\": \"\"\n      }\n    }\n  ]\n}",
              "type": "dataframe"
            },
            "text/html": [
              "\n",
              "  <div id=\"df-11d026d9-3ad7-45df-bc62-e3a50583f9c2\" class=\"colab-df-container\">\n",
              "    <div>\n",
              "<style scoped>\n",
              "    .dataframe tbody tr th:only-of-type {\n",
              "        vertical-align: middle;\n",
              "    }\n",
              "\n",
              "    .dataframe tbody tr th {\n",
              "        vertical-align: top;\n",
              "    }\n",
              "\n",
              "    .dataframe thead th {\n",
              "        text-align: right;\n",
              "    }\n",
              "</style>\n",
              "<table border=\"1\" class=\"dataframe\">\n",
              "  <thead>\n",
              "    <tr style=\"text-align: right;\">\n",
              "      <th></th>\n",
              "      <th>text</th>\n",
              "      <th>label</th>\n",
              "    </tr>\n",
              "  </thead>\n",
              "  <tbody>\n",
              "    <tr>\n",
              "      <th>0</th>\n",
              "      <td>Wall St. Bears Claw Back Into the Black (Reute...</td>\n",
              "      <td>2</td>\n",
              "    </tr>\n",
              "    <tr>\n",
              "      <th>1</th>\n",
              "      <td>Carlyle Looks Toward Commercial Aerospace (Reu...</td>\n",
              "      <td>2</td>\n",
              "    </tr>\n",
              "    <tr>\n",
              "      <th>2</th>\n",
              "      <td>Oil and Economy Cloud Stocks' Outlook (Reuters...</td>\n",
              "      <td>2</td>\n",
              "    </tr>\n",
              "    <tr>\n",
              "      <th>3</th>\n",
              "      <td>Iraq Halts Oil Exports from Main Southern Pipe...</td>\n",
              "      <td>2</td>\n",
              "    </tr>\n",
              "    <tr>\n",
              "      <th>4</th>\n",
              "      <td>Oil prices soar to all-time record, posing new...</td>\n",
              "      <td>2</td>\n",
              "    </tr>\n",
              "  </tbody>\n",
              "</table>\n",
              "</div>\n",
              "    <div class=\"colab-df-buttons\">\n",
              "\n",
              "  <div class=\"colab-df-container\">\n",
              "    <button class=\"colab-df-convert\" onclick=\"convertToInteractive('df-11d026d9-3ad7-45df-bc62-e3a50583f9c2')\"\n",
              "            title=\"Convert this dataframe to an interactive table.\"\n",
              "            style=\"display:none;\">\n",
              "\n",
              "  <svg xmlns=\"http://www.w3.org/2000/svg\" height=\"24px\" viewBox=\"0 -960 960 960\">\n",
              "    <path d=\"M120-120v-720h720v720H120Zm60-500h600v-160H180v160Zm220 220h160v-160H400v160Zm0 220h160v-160H400v160ZM180-400h160v-160H180v160Zm440 0h160v-160H620v160ZM180-180h160v-160H180v160Zm440 0h160v-160H620v160Z\"/>\n",
              "  </svg>\n",
              "    </button>\n",
              "\n",
              "  <style>\n",
              "    .colab-df-container {\n",
              "      display:flex;\n",
              "      gap: 12px;\n",
              "    }\n",
              "\n",
              "    .colab-df-convert {\n",
              "      background-color: #E8F0FE;\n",
              "      border: none;\n",
              "      border-radius: 50%;\n",
              "      cursor: pointer;\n",
              "      display: none;\n",
              "      fill: #1967D2;\n",
              "      height: 32px;\n",
              "      padding: 0 0 0 0;\n",
              "      width: 32px;\n",
              "    }\n",
              "\n",
              "    .colab-df-convert:hover {\n",
              "      background-color: #E2EBFA;\n",
              "      box-shadow: 0px 1px 2px rgba(60, 64, 67, 0.3), 0px 1px 3px 1px rgba(60, 64, 67, 0.15);\n",
              "      fill: #174EA6;\n",
              "    }\n",
              "\n",
              "    .colab-df-buttons div {\n",
              "      margin-bottom: 4px;\n",
              "    }\n",
              "\n",
              "    [theme=dark] .colab-df-convert {\n",
              "      background-color: #3B4455;\n",
              "      fill: #D2E3FC;\n",
              "    }\n",
              "\n",
              "    [theme=dark] .colab-df-convert:hover {\n",
              "      background-color: #434B5C;\n",
              "      box-shadow: 0px 1px 3px 1px rgba(0, 0, 0, 0.15);\n",
              "      filter: drop-shadow(0px 1px 2px rgba(0, 0, 0, 0.3));\n",
              "      fill: #FFFFFF;\n",
              "    }\n",
              "  </style>\n",
              "\n",
              "    <script>\n",
              "      const buttonEl =\n",
              "        document.querySelector('#df-11d026d9-3ad7-45df-bc62-e3a50583f9c2 button.colab-df-convert');\n",
              "      buttonEl.style.display =\n",
              "        google.colab.kernel.accessAllowed ? 'block' : 'none';\n",
              "\n",
              "      async function convertToInteractive(key) {\n",
              "        const element = document.querySelector('#df-11d026d9-3ad7-45df-bc62-e3a50583f9c2');\n",
              "        const dataTable =\n",
              "          await google.colab.kernel.invokeFunction('convertToInteractive',\n",
              "                                                    [key], {});\n",
              "        if (!dataTable) return;\n",
              "\n",
              "        const docLinkHtml = 'Like what you see? Visit the ' +\n",
              "          '<a target=\"_blank\" href=https://colab.research.google.com/notebooks/data_table.ipynb>data table notebook</a>'\n",
              "          + ' to learn more about interactive tables.';\n",
              "        element.innerHTML = '';\n",
              "        dataTable['output_type'] = 'display_data';\n",
              "        await google.colab.output.renderOutput(dataTable, element);\n",
              "        const docLink = document.createElement('div');\n",
              "        docLink.innerHTML = docLinkHtml;\n",
              "        element.appendChild(docLink);\n",
              "      }\n",
              "    </script>\n",
              "  </div>\n",
              "\n",
              "\n",
              "    <div id=\"df-0ade399b-19b1-4689-b3eb-f73b10354240\">\n",
              "      <button class=\"colab-df-quickchart\" onclick=\"quickchart('df-0ade399b-19b1-4689-b3eb-f73b10354240')\"\n",
              "                title=\"Suggest charts\"\n",
              "                style=\"display:none;\">\n",
              "\n",
              "<svg xmlns=\"http://www.w3.org/2000/svg\" height=\"24px\"viewBox=\"0 0 24 24\"\n",
              "     width=\"24px\">\n",
              "    <g>\n",
              "        <path d=\"M19 3H5c-1.1 0-2 .9-2 2v14c0 1.1.9 2 2 2h14c1.1 0 2-.9 2-2V5c0-1.1-.9-2-2-2zM9 17H7v-7h2v7zm4 0h-2V7h2v10zm4 0h-2v-4h2v4z\"/>\n",
              "    </g>\n",
              "</svg>\n",
              "      </button>\n",
              "\n",
              "<style>\n",
              "  .colab-df-quickchart {\n",
              "      --bg-color: #E8F0FE;\n",
              "      --fill-color: #1967D2;\n",
              "      --hover-bg-color: #E2EBFA;\n",
              "      --hover-fill-color: #174EA6;\n",
              "      --disabled-fill-color: #AAA;\n",
              "      --disabled-bg-color: #DDD;\n",
              "  }\n",
              "\n",
              "  [theme=dark] .colab-df-quickchart {\n",
              "      --bg-color: #3B4455;\n",
              "      --fill-color: #D2E3FC;\n",
              "      --hover-bg-color: #434B5C;\n",
              "      --hover-fill-color: #FFFFFF;\n",
              "      --disabled-bg-color: #3B4455;\n",
              "      --disabled-fill-color: #666;\n",
              "  }\n",
              "\n",
              "  .colab-df-quickchart {\n",
              "    background-color: var(--bg-color);\n",
              "    border: none;\n",
              "    border-radius: 50%;\n",
              "    cursor: pointer;\n",
              "    display: none;\n",
              "    fill: var(--fill-color);\n",
              "    height: 32px;\n",
              "    padding: 0;\n",
              "    width: 32px;\n",
              "  }\n",
              "\n",
              "  .colab-df-quickchart:hover {\n",
              "    background-color: var(--hover-bg-color);\n",
              "    box-shadow: 0 1px 2px rgba(60, 64, 67, 0.3), 0 1px 3px 1px rgba(60, 64, 67, 0.15);\n",
              "    fill: var(--button-hover-fill-color);\n",
              "  }\n",
              "\n",
              "  .colab-df-quickchart-complete:disabled,\n",
              "  .colab-df-quickchart-complete:disabled:hover {\n",
              "    background-color: var(--disabled-bg-color);\n",
              "    fill: var(--disabled-fill-color);\n",
              "    box-shadow: none;\n",
              "  }\n",
              "\n",
              "  .colab-df-spinner {\n",
              "    border: 2px solid var(--fill-color);\n",
              "    border-color: transparent;\n",
              "    border-bottom-color: var(--fill-color);\n",
              "    animation:\n",
              "      spin 1s steps(1) infinite;\n",
              "  }\n",
              "\n",
              "  @keyframes spin {\n",
              "    0% {\n",
              "      border-color: transparent;\n",
              "      border-bottom-color: var(--fill-color);\n",
              "      border-left-color: var(--fill-color);\n",
              "    }\n",
              "    20% {\n",
              "      border-color: transparent;\n",
              "      border-left-color: var(--fill-color);\n",
              "      border-top-color: var(--fill-color);\n",
              "    }\n",
              "    30% {\n",
              "      border-color: transparent;\n",
              "      border-left-color: var(--fill-color);\n",
              "      border-top-color: var(--fill-color);\n",
              "      border-right-color: var(--fill-color);\n",
              "    }\n",
              "    40% {\n",
              "      border-color: transparent;\n",
              "      border-right-color: var(--fill-color);\n",
              "      border-top-color: var(--fill-color);\n",
              "    }\n",
              "    60% {\n",
              "      border-color: transparent;\n",
              "      border-right-color: var(--fill-color);\n",
              "    }\n",
              "    80% {\n",
              "      border-color: transparent;\n",
              "      border-right-color: var(--fill-color);\n",
              "      border-bottom-color: var(--fill-color);\n",
              "    }\n",
              "    90% {\n",
              "      border-color: transparent;\n",
              "      border-bottom-color: var(--fill-color);\n",
              "    }\n",
              "  }\n",
              "</style>\n",
              "\n",
              "      <script>\n",
              "        async function quickchart(key) {\n",
              "          const quickchartButtonEl =\n",
              "            document.querySelector('#' + key + ' button');\n",
              "          quickchartButtonEl.disabled = true;  // To prevent multiple clicks.\n",
              "          quickchartButtonEl.classList.add('colab-df-spinner');\n",
              "          try {\n",
              "            const charts = await google.colab.kernel.invokeFunction(\n",
              "                'suggestCharts', [key], {});\n",
              "          } catch (error) {\n",
              "            console.error('Error during call to suggestCharts:', error);\n",
              "          }\n",
              "          quickchartButtonEl.classList.remove('colab-df-spinner');\n",
              "          quickchartButtonEl.classList.add('colab-df-quickchart-complete');\n",
              "        }\n",
              "        (() => {\n",
              "          let quickchartButtonEl =\n",
              "            document.querySelector('#df-0ade399b-19b1-4689-b3eb-f73b10354240 button');\n",
              "          quickchartButtonEl.style.display =\n",
              "            google.colab.kernel.accessAllowed ? 'block' : 'none';\n",
              "        })();\n",
              "      </script>\n",
              "    </div>\n",
              "\n",
              "    </div>\n",
              "  </div>\n"
            ],
            "text/plain": [
              "                                                text  label\n",
              "0  Wall St. Bears Claw Back Into the Black (Reute...      2\n",
              "1  Carlyle Looks Toward Commercial Aerospace (Reu...      2\n",
              "2  Oil and Economy Cloud Stocks' Outlook (Reuters...      2\n",
              "3  Iraq Halts Oil Exports from Main Southern Pipe...      2\n",
              "4  Oil prices soar to all-time record, posing new...      2"
            ]
          },
          "execution_count": 5,
          "metadata": {},
          "output_type": "execute_result"
        }
      ],
      "source": [
        "with warnings.catch_warnings():\n",
        "    warnings.filterwarnings(\"ignore\", message=\".*HF_TOKEN.*\")\n",
        "    dataset = load_dataset(\"ag_news\")\n",
        "\n",
        "# Display sample from training set\n",
        "dataset[\"train\"].to_pandas().head()\n"
      ]
    },
    {
      "cell_type": "markdown",
      "metadata": {
        "id": "Rae-_SUnB4-a"
      },
      "source": [
        "# Step 4: Tokenize the Dataset\n",
        "\n",
        "We'll tokenize the text data using the 'BertTokenizerFast', truncating longer texts to fit the model input size. We'll also rename the label column to 'labels' as required by the model.\n"
      ]
    },
    {
      "cell_type": "code",
      "execution_count": 6,
      "metadata": {
        "colab": {
          "base_uri": "https://localhost:8080/",
          "height": 209,
          "referenced_widgets": [
            "e6e413bb71c24c4181322e031306add8",
            "a5439e920aa94cdcb059d3858aa12495",
            "ce84449cbfba410aad7f4eb57287e984",
            "a369e242a5404054afeece6ff25a9081",
            "c94dc5363f9b404ababcd531b76d7c23",
            "26245ce3948848cb9e39c0bf520ac5d0",
            "18897864ba42403d8dadee5098e76608",
            "0ac84b9e45a14e798826e92dcea973bd",
            "aeea0479a98949cf8e112d55eaff718b",
            "f15bf4638e264e6794742cbfb4cf86aa",
            "1af1ac7a33d24c20a96c511a77ab3fad",
            "6243a79763d84fccb9cbdf79e159b159",
            "df799bbfc0eb43e5b25b8c1e9cde20c8",
            "a60af11a0b58440e8ff9666f5db44210",
            "807a1e65302a4052a863459e0c1f46ec",
            "8d2bceaa8c594d1d818f6f737c440e73",
            "38110c27b94f49ba95d49653fcbfc4e4",
            "9418616c1d464c7bb00f99d310b47e90",
            "b6a2388f716c480594d685b7a04b5cef",
            "b6cc069053524c7d8a68743d0900ba36",
            "12479474ab9941c792327a4dbc97a5ac",
            "c880b7073e8e4815974f61a683557c1b",
            "575deee7fce44320ae0ac3aa25bb123e",
            "692708d980f54f10bea12e65fa0c664f",
            "30fd54fd6be548a18f12f8fcd102ac67",
            "5d2521a7145f42ec84d1c054ec551a78",
            "2f542fce6b0c4737916715751e210a9d",
            "1523af85105240fcad283d65cb3b2baa",
            "d3470434aba5401ab215c9e515c56704",
            "14f69fa813ad4035b01edffb274f2752",
            "9615040686b242f98cf28783e981100f",
            "f1b6ea875f714153a914306fe094aab8",
            "9fdc789415bc42e298e9fa1443acf722",
            "5c0e007dc5dc41b9bb19f8352af97cbd",
            "314ecd1394a14fab9bae87db74eeaeb7",
            "486626cea971413399cb4dfb8f04d925",
            "49325e3b325c4c18b1a12a85d68958f1",
            "f0732c8e302b49a1a2f1abf18bc1aeba",
            "fb6a7b7b043f4f9c83699e6b3815a010",
            "08261f8b159a42a0b835b187d9b6cb91",
            "1607d6c375634aef92457bb16a965aa4",
            "3cafe7b2d3284a3080bb365696f2de8a",
            "03f8b59521e24698a8e5d8da901a961d",
            "662022bd603b4ef6ad1e523ecadd65e8",
            "0e22331bfe3a40ee9df25173aad25004",
            "08a4dd9c2f254e2f811603a68f24a797",
            "8411a5d3137f4e5dad90c256a50c4a20",
            "2da0e48514b84b74866e1a067d415d94",
            "186345999b3d45edb16e0dc6910bb15d",
            "899157783c984fc1b48a6407427629b0",
            "4d47de6bb98741f48450aef743d3f5b2",
            "b1575b6fa547492186d4b1b7f2d213f5",
            "675074535c14454dbea8566a867f772e",
            "32519c8a9a914095804b9ffa09b77fa0",
            "2e8cdf7907f64b17bccdc2d1a54fd2dd",
            "64711eec688f4678b37c6123c33527fe",
            "eff606572a544e65875b6cec75ee4a81",
            "50ca0d2d13c4492eaaf482607a67ee78",
            "4f6416ef176245a29f368eda7609545b",
            "4b67bdebe1064096a73e7f84b719b0a0",
            "3fd73de1536543ffad9ce25435133b8d",
            "1b7c71f0f6434a0dbb30b1f9ee40ae16",
            "206d2f4abb0c461099c5bd9d24146cc1",
            "97e7f98a1bd94845bf94eae1b729f3b7",
            "9718756970ef49af8f66c95194a91278",
            "c3f0c13c5108453a971d5292c0aadea9"
          ]
        },
        "executionInfo": {
          "elapsed": 39179,
          "status": "ok",
          "timestamp": 1753538972246,
          "user": {
            "displayName": "POOJA BORUDE",
            "userId": "03202445932700127897"
          },
          "user_tz": -330
        },
        "id": "y_FS1s-5B8NN",
        "outputId": "cdf6c9bc-9297-417a-b6ae-ae86ff360481"
      },
      "outputs": [
        {
          "data": {
            "application/vnd.jupyter.widget-view+json": {
              "model_id": "e6e413bb71c24c4181322e031306add8",
              "version_major": 2,
              "version_minor": 0
            },
            "text/plain": [
              "tokenizer_config.json:   0%|          | 0.00/48.0 [00:00<?, ?B/s]"
            ]
          },
          "metadata": {},
          "output_type": "display_data"
        },
        {
          "data": {
            "application/vnd.jupyter.widget-view+json": {
              "model_id": "6243a79763d84fccb9cbdf79e159b159",
              "version_major": 2,
              "version_minor": 0
            },
            "text/plain": [
              "vocab.txt:   0%|          | 0.00/232k [00:00<?, ?B/s]"
            ]
          },
          "metadata": {},
          "output_type": "display_data"
        },
        {
          "data": {
            "application/vnd.jupyter.widget-view+json": {
              "model_id": "575deee7fce44320ae0ac3aa25bb123e",
              "version_major": 2,
              "version_minor": 0
            },
            "text/plain": [
              "tokenizer.json:   0%|          | 0.00/466k [00:00<?, ?B/s]"
            ]
          },
          "metadata": {},
          "output_type": "display_data"
        },
        {
          "data": {
            "application/vnd.jupyter.widget-view+json": {
              "model_id": "5c0e007dc5dc41b9bb19f8352af97cbd",
              "version_major": 2,
              "version_minor": 0
            },
            "text/plain": [
              "config.json:   0%|          | 0.00/570 [00:00<?, ?B/s]"
            ]
          },
          "metadata": {},
          "output_type": "display_data"
        },
        {
          "data": {
            "application/vnd.jupyter.widget-view+json": {
              "model_id": "0e22331bfe3a40ee9df25173aad25004",
              "version_major": 2,
              "version_minor": 0
            },
            "text/plain": [
              "Map:   0%|          | 0/120000 [00:00<?, ? examples/s]"
            ]
          },
          "metadata": {},
          "output_type": "display_data"
        },
        {
          "data": {
            "application/vnd.jupyter.widget-view+json": {
              "model_id": "64711eec688f4678b37c6123c33527fe",
              "version_major": 2,
              "version_minor": 0
            },
            "text/plain": [
              "Map:   0%|          | 0/7600 [00:00<?, ? examples/s]"
            ]
          },
          "metadata": {},
          "output_type": "display_data"
        }
      ],
      "source": [
        "tokenizer = BertTokenizerFast.from_pretrained('bert-base-uncased')\n",
        "\n",
        "def tokenize(batch):\n",
        "    return tokenizer(batch['text'], truncation=True)\n",
        "\n",
        "tokenized_dataset = dataset.map(tokenize, batched=True)\n",
        "tokenized_dataset = tokenized_dataset.rename_column(\"label\", \"labels\")\n"
      ]
    },
    {
      "cell_type": "markdown",
      "metadata": {
        "id": "xNzZWmiPErqj"
      },
      "source": [
        "# Step 5: Load Pre-trained BERT Model\n",
        "\n",
        "We'll use the BERT base model with a classification head. 'DataCollatorWithPadding' ensures all inputs in a batch have the same length using dynamic padding.\n"
      ]
    },
    {
      "cell_type": "code",
      "execution_count": 7,
      "metadata": {
        "colab": {
          "base_uri": "https://localhost:8080/",
          "height": 84,
          "referenced_widgets": [
            "d9c309c56a7043969c8897cd2967804c",
            "78d6cbb7fc5c4c058da64d286a1da885",
            "8e8c76ef71bb4a03a91b992d5a8f8b4e",
            "da006ce8e8724fc9b6012567c8c3feb0",
            "5850dbaa06194366ae4dd91986519aa6",
            "90c043b411a64b208dba1a4cae80b49b",
            "f713a825fb1c474db634dd7ddec32408",
            "a23d6df35e6541d9873c3a73c9361605",
            "765dcdac8f9849efbbe89be048d8ef87",
            "721d29385b374182b32cc1900db38427",
            "435f89636b524784967d9e9ed1f599d7"
          ]
        },
        "executionInfo": {
          "elapsed": 11235,
          "status": "ok",
          "timestamp": 1753539094088,
          "user": {
            "displayName": "POOJA BORUDE",
            "userId": "03202445932700127897"
          },
          "user_tz": -330
        },
        "id": "-2B0797NEp_H",
        "outputId": "151fbd4e-6369-446a-cc9a-58ebe63f0f83"
      },
      "outputs": [
        {
          "data": {
            "application/vnd.jupyter.widget-view+json": {
              "model_id": "d9c309c56a7043969c8897cd2967804c",
              "version_major": 2,
              "version_minor": 0
            },
            "text/plain": [
              "model.safetensors:   0%|          | 0.00/440M [00:00<?, ?B/s]"
            ]
          },
          "metadata": {},
          "output_type": "display_data"
        },
        {
          "name": "stderr",
          "output_type": "stream",
          "text": [
            "Some weights of BertForSequenceClassification were not initialized from the model checkpoint at bert-base-uncased and are newly initialized: ['classifier.bias', 'classifier.weight']\n",
            "You should probably TRAIN this model on a down-stream task to be able to use it for predictions and inference.\n"
          ]
        }
      ],
      "source": [
        "model = BertForSequenceClassification.from_pretrained(\n",
        "    'bert-base-uncased', num_labels=4\n",
        ")\n",
        "data_collator = DataCollatorWithPadding(tokenizer=tokenizer)\n"
      ]
    },
    {
      "cell_type": "markdown",
      "metadata": {
        "id": "p7vkODAYE-QJ"
      },
      "source": [
        "# Step 6: Define Evaluation Metric\n",
        "\n",
        "We'll define a function to compute accuracy by comparing predicted labels with true labels during model evaluation.\n"
      ]
    },
    {
      "cell_type": "code",
      "execution_count": 8,
      "metadata": {
        "executionInfo": {
          "elapsed": 50,
          "status": "ok",
          "timestamp": 1753539164430,
          "user": {
            "displayName": "POOJA BORUDE",
            "userId": "03202445932700127897"
          },
          "user_tz": -330
        },
        "id": "1lb8Tzv7FCxG"
      },
      "outputs": [],
      "source": [
        "def compute_metrics(pred):\n",
        "    labels = pred.label_ids\n",
        "    preds = pred.predictions.argmax(-1)\n",
        "    acc = accuracy_score(labels, preds)\n",
        "    return {\"accuracy\": acc}\n"
      ]
    },
    {
      "cell_type": "markdown",
      "metadata": {
        "id": "LFWCqzAoFGwV"
      },
      "source": [
        "# Step 7: Define Training Arguments\n",
        "\n",
        "We'll set parameters for training such as batch size, number of epochs, logging steps, and output directory using 'TrainingArguments'.\n"
      ]
    },
    {
      "cell_type": "code",
      "execution_count": 10,
      "metadata": {
        "executionInfo": {
          "elapsed": 18,
          "status": "ok",
          "timestamp": 1753539291094,
          "user": {
            "displayName": "POOJA BORUDE",
            "userId": "03202445932700127897"
          },
          "user_tz": -330
        },
        "id": "YIQlZ9-lFMTd"
      },
      "outputs": [],
      "source": [
        "training_args = TrainingArguments(\n",
        "    output_dir=\"./results\",\n",
        "    per_device_train_batch_size=16,\n",
        "    per_device_eval_batch_size=16,\n",
        "    num_train_epochs=1,\n",
        "    eval_strategy=\"epoch\",  # Corrected argument name\n",
        "    save_strategy=\"no\",\n",
        "    logging_steps=10,\n",
        "    report_to=\"none\"\n",
        ")"
      ]
    },
    {
      "cell_type": "markdown",
      "metadata": {
        "id": "poAWmOX9FXVU"
      },
      "source": [
        "# 8. Initialize Trainer and Train\n",
        "\n",
        "We'll create a 'Trainer' object with the model, tokenized dataset, training arguments, and metric function. For speed, we use a subset of the full dataset.\n"
      ]
    },
    {
      "cell_type": "code",
      "execution_count": 11,
      "metadata": {
        "colab": {
          "base_uri": "https://localhost:8080/",
          "height": 141
        },
        "executionInfo": {
          "elapsed": 1419593,
          "status": "ok",
          "timestamp": 1753540718961,
          "user": {
            "displayName": "POOJA BORUDE",
            "userId": "03202445932700127897"
          },
          "user_tz": -330
        },
        "id": "5nuDPLxcFack",
        "outputId": "2b91d4ab-6fbd-4bd5-da74-ec3322b442dc"
      },
      "outputs": [
        {
          "data": {
            "text/html": [
              "\n",
              "    <div>\n",
              "      \n",
              "      <progress value='63' max='63' style='width:300px; height:20px; vertical-align: middle;'></progress>\n",
              "      [63/63 22:28, Epoch 1/1]\n",
              "    </div>\n",
              "    <table border=\"1\" class=\"dataframe\">\n",
              "  <thead>\n",
              " <tr style=\"text-align: left;\">\n",
              "      <th>Epoch</th>\n",
              "      <th>Training Loss</th>\n",
              "      <th>Validation Loss</th>\n",
              "      <th>Accuracy</th>\n",
              "    </tr>\n",
              "  </thead>\n",
              "  <tbody>\n",
              "    <tr>\n",
              "      <td>1</td>\n",
              "      <td>0.470600</td>\n",
              "      <td>0.417388</td>\n",
              "      <td>0.885000</td>\n",
              "    </tr>\n",
              "  </tbody>\n",
              "</table><p>"
            ],
            "text/plain": [
              "<IPython.core.display.HTML object>"
            ]
          },
          "metadata": {},
          "output_type": "display_data"
        },
        {
          "data": {
            "text/plain": [
              "TrainOutput(global_step=63, training_loss=0.7397070479771447, metrics={'train_runtime': 1419.8769, 'train_samples_per_second': 0.704, 'train_steps_per_second': 0.044, 'total_flos': 61478646493056.0, 'train_loss': 0.7397070479771447, 'epoch': 1.0})"
            ]
          },
          "execution_count": 11,
          "metadata": {},
          "output_type": "execute_result"
        }
      ],
      "source": [
        "trainer = Trainer(\n",
        "    model=model,\n",
        "    args=training_args,\n",
        "    train_dataset=tokenized_dataset[\"train\"].select(range(1000)),\n",
        "    eval_dataset=tokenized_dataset[\"test\"].select(range(200)),\n",
        "    data_collator=data_collator,\n",
        "    compute_metrics=compute_metrics,\n",
        ")\n",
        "\n",
        "trainer.train()\n"
      ]
    },
    {
      "cell_type": "markdown",
      "metadata": {
        "id": "ke1bc5oOFm1x"
      },
      "source": [
        "# Step 9: Evaluate the Model\n",
        "\n",
        "After training, we'll evaluate the model on the test set subset and print the accuracy.\n",
        "\n",
        "\n"
      ]
    },
    {
      "cell_type": "code",
      "execution_count": 12,
      "metadata": {
        "colab": {
          "base_uri": "https://localhost:8080/",
          "height": 72
        },
        "executionInfo": {
          "elapsed": 70504,
          "status": "ok",
          "timestamp": 1753540832964,
          "user": {
            "displayName": "POOJA BORUDE",
            "userId": "03202445932700127897"
          },
          "user_tz": -330
        },
        "id": "-2WQbk2hFrPg",
        "outputId": "69cf710b-931f-4482-f0a0-31156cd77f08"
      },
      "outputs": [
        {
          "data": {
            "text/html": [
              "\n",
              "    <div>\n",
              "      \n",
              "      <progress value='13' max='13' style='width:300px; height:20px; vertical-align: middle;'></progress>\n",
              "      [13/13 00:59]\n",
              "    </div>\n",
              "    "
            ],
            "text/plain": [
              "<IPython.core.display.HTML object>"
            ]
          },
          "metadata": {},
          "output_type": "display_data"
        },
        {
          "name": "stdout",
          "output_type": "stream",
          "text": [
            "\n",
            "\u2705 Evaluation Accuracy: 0.89\n"
          ]
        }
      ],
      "source": [
        "eval_result = trainer.evaluate()\n",
        "print(f\"\\n\u2705 Evaluation Accuracy: {eval_result['eval_accuracy']:.2f}\")\n"
      ]
    },
    {
      "cell_type": "markdown",
      "metadata": {
        "id": "vvsc0KHAF4Tt"
      },
      "source": [
        "# Step 10: Make Sample Predictions\n",
        "\n",
        "We'll use a 'pipeline' for text classification with the fine-tuned model to predict labels on new sample texts and print the predicted categories.\n"
      ]
    },
    {
      "cell_type": "code",
      "execution_count": 16,
      "metadata": {
        "colab": {
          "base_uri": "https://localhost:8080/"
        },
        "executionInfo": {
          "elapsed": 614,
          "status": "ok",
          "timestamp": 1753541382711,
          "user": {
            "displayName": "POOJA BORUDE",
            "userId": "03202445932700127897"
          },
          "user_tz": -330
        },
        "id": "vJnQv17OF11N",
        "outputId": "f8de09d9-8683-47b6-b160-a2206de420b1"
      },
      "outputs": [
        {
          "name": "stderr",
          "output_type": "stream",
          "text": [
            "Device set to use cpu\n"
          ]
        },
        {
          "name": "stdout",
          "output_type": "stream",
          "text": [
            "\n",
            " Sample Predictions:\n",
            "\n",
            "Text: Real Madrid defeats Barcelona in a thrilling El Cl\u00e1sico.\n",
            "Predicted Label: Sports\n",
            "\n",
            "Text: Oil prices hit a record low amid global tensions.\n",
            "Predicted Label: Business\n",
            "\n",
            "Text: NASA launches a new rocket to Mars.\n",
            "Predicted Label: Sci/Tech\n",
            "\n",
            "Text: The stock market saw a huge increase today.\n",
            "Predicted Label: Business\n",
            "\n",
            "Text: Manchester United won the football match.\n",
            "Predicted Label: Sports\n",
            "\n",
            "Text: Apple announces the release of the iPhone 15.\n",
            "Predicted Label: Sci/Tech\n",
            "\n"
          ]
        }
      ],
      "source": [
        "# Get label names from the dataset metadata\n",
        "label_names = dataset[\"train\"].features[\"label\"].names\n",
        "\n",
        "# Create text classification pipeline using our fine-tuned model\n",
        "text_classifier = pipeline(\n",
        "    \"text-classification\", model=model, tokenizer=tokenizer\n",
        ")\n",
        "\n",
        "# Custom sample headlines for testing\n",
        "sample_texts = [\n",
        "    \"Real Madrid defeats Barcelona in a thrilling El Cl\u00e1sico.\",\n",
        "    \"Oil prices hit a record low amid global tensions.\",\n",
        "    \"NASA launches a new rocket to Mars.\",\n",
        "    \"The stock market saw a huge increase today.\",\n",
        "    \"Manchester United won the football match.\",\n",
        "    \"Apple announces the release of the iPhone 15.\"\n",
        "]\n",
        "\n",
        "# Print predictions\n",
        "print(\"\\n Sample Predictions:\\n\")\n",
        "for text in sample_texts:\n",
        "    pred = text_classifier(text)[0]\n",
        "    label_index = int(pred['label'].split(\"_\")[-1])\n",
        "    label = label_names[label_index]\n",
        "    print(f\"Text: {text}\\nPredicted Label: {label}\\n\")\n"
      ]
    }
  ],
  "metadata": {
    "accelerator": "GPU",
    "colab": {
      "authorship_tag": "ABX9TyNXqON1lIXlNVwVmGeVShk3",
      "gpuType": "T4",
      "provenance": []
    },
    "kernelspec": {
      "display_name": "Python 3",
      "name": "python3"
    },
    "language_info": {
      "name": "python"
    }
  },
  "nbformat": 4,
  "nbformat_minor": 0
}